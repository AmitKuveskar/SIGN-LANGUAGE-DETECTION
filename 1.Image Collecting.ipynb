{
 "cells": [
  {
   "cell_type": "code",
   "execution_count": null,
   "id": "14054a32",
   "metadata": {},
   "outputs": [],
   "source": [
    "pip install opencv-python "
   ]
  },
  {
   "cell_type": "code",
   "execution_count": 1,
   "id": "e1d6c80a",
   "metadata": {},
   "outputs": [],
   "source": [
    "import cv2 \n",
    "import uuid\n",
    "import os\n",
    "import time"
   ]
  },
  {
   "cell_type": "code",
   "execution_count": null,
   "id": "f99551c2",
   "metadata": {},
   "outputs": [],
   "source": [
    "labels = ['A', 'B', 'C', 'D']\n",
    "number_imgs = 10"
   ]
  },
  {
   "cell_type": "code",
   "execution_count": null,
   "id": "7d88132c",
   "metadata": {},
   "outputs": [],
   "source": [
    "IMAGES_PATH = os.path.join('Tensorflow', 'workspace', 'images', 'collectedimages')"
   ]
  },
  {
   "cell_type": "code",
   "execution_count": null,
   "id": "09746ac7",
   "metadata": {},
   "outputs": [],
   "source": [
    "if not os.path.exists(IMAGES_PATH):\n",
    "    if os.name == 'posix':\n",
    "        !mkdir -p {IMAGES_PATH}\n",
    "    if os.name == 'nt':\n",
    "         !mkdir {IMAGES_PATH}\n",
    "for label in labels:\n",
    "    path = os.path.join(IMAGES_PATH, label)\n",
    "    if not os.path.exists(path):\n",
    "        !mkdir {path}"
   ]
  },
  {
   "cell_type": "code",
   "execution_count": null,
   "id": "3005c45a",
   "metadata": {
    "scrolled": true
   },
   "outputs": [],
   "source": [
    "for label in labels:\n",
    "    cap = cv2.VideoCapture(0)\n",
    "    print('Collecting images for {}'.format(label))\n",
    "    time.sleep(5)\n",
    "    for imgnum in range(number_imgs):\n",
    "        print('Collecting image {}'.format(imgnum))\n",
    "        ret, frame = cap.read()\n",
    "        imgname = os.path.join(IMAGES_PATH,label,label+'.'+'{}.jpg'.format(str(uuid.uuid1())))\n",
    "        cv2.imwrite(imgname, frame)\n",
    "        cv2.imshow('frame', frame)\n",
    "        time.sleep(2)\n",
    "\n",
    "        if cv2.waitKey(1) & 0xFF == ord('q'):\n",
    "            break\n",
    "cap.release()\n",
    "cv2.destroyAllWindows()"
   ]
  },
  {
   "cell_type": "code",
   "execution_count": null,
   "id": "ab768e45",
   "metadata": {},
   "outputs": [],
   "source": [
    "!pip install --upgrade pyqt5 lxml"
   ]
  },
  {
   "cell_type": "code",
   "execution_count": 2,
   "id": "d64a20aa",
   "metadata": {},
   "outputs": [],
   "source": [
    "LABELIMG_PATH = os.path.join('Tensorflow', 'labelimg')"
   ]
  },
  {
   "cell_type": "code",
   "execution_count": 3,
   "id": "e95e28fe",
   "metadata": {},
   "outputs": [],
   "source": [
    "if not os.path.exists(LABELIMG_PATH):\n",
    "    !mkdir {LABELIMG_PATH}\n",
    "    !git clone https://github.com/tzutalin/labelImg {LABELIMG_PATH}"
   ]
  },
  {
   "cell_type": "code",
   "execution_count": 4,
   "id": "a3c383c4",
   "metadata": {},
   "outputs": [],
   "source": [
    "if os.name == 'posix':\n",
    "    !make qt5py3\n",
    "if os.name =='nt':\n",
    "    !cd {LABELIMG_PATH} && pyrcc5 -o libs/resources.py resources.qrc"
   ]
  },
  {
   "cell_type": "code",
   "execution_count": 5,
   "id": "14c4409b",
   "metadata": {},
   "outputs": [
    {
     "name": "stdout",
     "output_type": "stream",
     "text": [
      "Image:C:\\Users\\Amit\\Desktop\\BEProject\\Tensorflow\\workspace\\images\\train\\A3_jpg.rf.8850b77ae61284df2b0b40d1475b97f1.jpg -> Annotation:C:/Users/Amit/Desktop/BEProject/Tensorflow/workspace/images/train/A3_jpg.rf.8850b77ae61284df2b0b40d1475b97f1.xml\n",
      "Image:C:\\Users\\Amit\\Desktop\\BEProject\\Tensorflow\\workspace\\images\\train\\A9_jpg.rf.650eeae5bbceb2d8cc980bfe16f8c8f6.jpg -> Annotation:C:/Users/Amit/Desktop/BEProject/Tensorflow/workspace/images/train/A9_jpg.rf.650eeae5bbceb2d8cc980bfe16f8c8f6.xml\n",
      "Image:C:\\Users\\Amit\\Desktop\\BEProject\\Tensorflow\\workspace\\images\\train\\A10_jpg.rf.470b1af0feaa190a2d29fcafd6fe747d.jpg -> Annotation:C:/Users/Amit/Desktop/BEProject/Tensorflow/workspace/images/train/A10_jpg.rf.470b1af0feaa190a2d29fcafd6fe747d.xml\n",
      "Image:C:\\Users\\Amit\\Desktop\\BEProject\\Tensorflow\\workspace\\images\\train\\A14_jpg.rf.392d1ac7f954c7a26a3bf99762e281e3.jpg -> Annotation:C:/Users/Amit/Desktop/BEProject/Tensorflow/workspace/images/train/A14_jpg.rf.392d1ac7f954c7a26a3bf99762e281e3.xml\n",
      "Image:C:\\Users\\Amit\\Desktop\\BEProject\\Tensorflow\\workspace\\images\\train\\A20_jpg.rf.df0a3120b594aa2f6b3e2347c35931a5.jpg -> Annotation:C:/Users/Amit/Desktop/BEProject/Tensorflow/workspace/images/train/A20_jpg.rf.df0a3120b594aa2f6b3e2347c35931a5.xml\n",
      "Image:C:\\Users\\Amit\\Desktop\\BEProject\\Tensorflow\\workspace\\images\\train\\B0_jpg.rf.79d38fe6bc3858d736cda3dbc4847eb0.jpg -> Annotation:C:/Users/Amit/Desktop/BEProject/Tensorflow/workspace/images/train/B0_jpg.rf.79d38fe6bc3858d736cda3dbc4847eb0.xml\n",
      "Image:C:\\Users\\Amit\\Desktop\\BEProject\\Tensorflow\\workspace\\images\\train\\B1_jpg.rf.da7a7d47e2e94890eb77d693032248cd.jpg -> Annotation:C:/Users/Amit/Desktop/BEProject/Tensorflow/workspace/images/train/B1_jpg.rf.da7a7d47e2e94890eb77d693032248cd.xml\n",
      "Image:C:\\Users\\Amit\\Desktop\\BEProject\\Tensorflow\\workspace\\images\\train\\B10_jpg.rf.8398bef4b6a6fbe452dba4b8bae60d18.jpg -> Annotation:C:/Users/Amit/Desktop/BEProject/Tensorflow/workspace/images/train/B10_jpg.rf.8398bef4b6a6fbe452dba4b8bae60d18.xml\n",
      "Image:C:\\Users\\Amit\\Desktop\\BEProject\\Tensorflow\\workspace\\images\\train\\B23_jpg.rf.1a1c5d5d273f164f71090b8f3acaec91.jpg -> Annotation:C:/Users/Amit/Desktop/BEProject/Tensorflow/workspace/images/train/B23_jpg.rf.1a1c5d5d273f164f71090b8f3acaec91.xml\n",
      "Image:C:\\Users\\Amit\\Desktop\\BEProject\\Tensorflow\\workspace\\images\\train\\C1_jpg.rf.57ffdd88bbbbade2e7f3e810fb991b23.jpg -> Annotation:C:/Users/Amit/Desktop/BEProject/Tensorflow/workspace/images/train/C1_jpg.rf.57ffdd88bbbbade2e7f3e810fb991b23.xml\n",
      "Image:C:\\Users\\Amit\\Desktop\\BEProject\\Tensorflow\\workspace\\images\\train\\C15_jpg.rf.08b137d2433d884e290d5c400b4f5f04.jpg -> Annotation:C:/Users/Amit/Desktop/BEProject/Tensorflow/workspace/images/train/C15_jpg.rf.08b137d2433d884e290d5c400b4f5f04.xml\n",
      "Image:C:\\Users\\Amit\\Desktop\\BEProject\\Tensorflow\\workspace\\images\\train\\D0_jpg.rf.9939a5bb0a2a6dae607f859b8a18bcfd.jpg -> Annotation:C:/Users/Amit/Desktop/BEProject/Tensorflow/workspace/images/train/D0_jpg.rf.9939a5bb0a2a6dae607f859b8a18bcfd.xml\n",
      "Image:C:\\Users\\Amit\\Desktop\\BEProject\\Tensorflow\\workspace\\images\\train\\D12_jpg.rf.6ec940158a22df1396ab7226c3c6e1ce.jpg -> Annotation:C:/Users/Amit/Desktop/BEProject/Tensorflow/workspace/images/train/D12_jpg.rf.6ec940158a22df1396ab7226c3c6e1ce.xml\n",
      "Image:C:\\Users\\Amit\\Desktop\\BEProject\\Tensorflow\\workspace\\images\\train\\D15_jpg.rf.f79cfd74547913cedee1cd9f8a19e450.jpg -> Annotation:C:/Users/Amit/Desktop/BEProject/Tensorflow/workspace/images/train/D15_jpg.rf.f79cfd74547913cedee1cd9f8a19e450.xml\n",
      "Image:C:\\Users\\Amit\\Desktop\\BEProject\\Tensorflow\\workspace\\images\\train\\D20_jpg.rf.bae7e1d582c04e04817a7f8a1567d18f.jpg -> Annotation:C:/Users/Amit/Desktop/BEProject/Tensorflow/workspace/images/train/D20_jpg.rf.bae7e1d582c04e04817a7f8a1567d18f.xml\n",
      "Image:C:\\Users\\Amit\\Desktop\\BEProject\\Tensorflow\\workspace\\images\\train\\D7_jpg.rf.bb07e27d27e4fbb5ddc16985da1bb783.jpg -> Annotation:C:/Users/Amit/Desktop/BEProject/Tensorflow/workspace/images/train/D7_jpg.rf.bb07e27d27e4fbb5ddc16985da1bb783.xml\n",
      "Image:C:\\Users\\Amit\\Desktop\\BEProject\\Tensorflow\\workspace\\images\\train\\E7_jpg.rf.853f20493a13a3106b472f212fa34b6a.jpg -> Annotation:C:/Users/Amit/Desktop/BEProject/Tensorflow/workspace/images/train/E7_jpg.rf.853f20493a13a3106b472f212fa34b6a.xml\n",
      "Image:C:\\Users\\Amit\\Desktop\\BEProject\\Tensorflow\\workspace\\images\\train\\E16_jpg.rf.58854ccc1ba085800baed69bd8828e40.jpg -> Annotation:C:/Users/Amit/Desktop/BEProject/Tensorflow/workspace/images/train/E16_jpg.rf.58854ccc1ba085800baed69bd8828e40.xml\n",
      "Image:C:\\Users\\Amit\\Desktop\\BEProject\\Tensorflow\\workspace\\images\\train\\E18_jpg.rf.b1aca80ef6329f032427a68b3a45488e.jpg -> Annotation:C:/Users/Amit/Desktop/BEProject/Tensorflow/workspace/images/train/E18_jpg.rf.b1aca80ef6329f032427a68b3a45488e.xml\n",
      "Image:C:\\Users\\Amit\\Desktop\\BEProject\\Tensorflow\\workspace\\images\\train\\E4_jpg.rf.cb11c9ae798920a77d9a970197c2d7cb.jpg -> Annotation:C:/Users/Amit/Desktop/BEProject/Tensorflow/workspace/images/train/E4_jpg.rf.cb11c9ae798920a77d9a970197c2d7cb.xml\n"
     ]
    },
    {
     "name": "stderr",
     "output_type": "stream",
     "text": [
      "Warning: QT_DEVICE_PIXEL_RATIO is deprecated. Instead use:\n",
      "   QT_AUTO_SCREEN_SCALE_FACTOR to enable platform plugin controlled per-screen factors.\n",
      "   QT_SCREEN_SCALE_FACTORS to set per-screen DPI.\n",
      "   QT_SCALE_FACTOR to set the application global scale factor.\n",
      "C:\\Users\\Amit\\Desktop\\BEProject\\Tensorflow\\labelimg\\labelImg.py:965: DeprecationWarning: an integer is required (got type float).  Implicit conversion to integers using __int__ is deprecated, and may be removed in a future version of Python.\n",
      "  bar.setValue(bar.value() + bar.singleStep() * units)\n"
     ]
    }
   ],
   "source": [
    "!cd {LABELIMG_PATH} && python labelImg.py"
   ]
  },
  {
   "cell_type": "code",
   "execution_count": null,
   "id": "d20f8153",
   "metadata": {},
   "outputs": [],
   "source": []
  }
 ],
 "metadata": {
  "kernelspec": {
   "display_name": "Python 3 (ipykernel)",
   "language": "python",
   "name": "python3"
  },
  "language_info": {
   "codemirror_mode": {
    "name": "ipython",
    "version": 3
   },
   "file_extension": ".py",
   "mimetype": "text/x-python",
   "name": "python",
   "nbconvert_exporter": "python",
   "pygments_lexer": "ipython3",
   "version": "3.8.9"
  }
 },
 "nbformat": 4,
 "nbformat_minor": 5
}
